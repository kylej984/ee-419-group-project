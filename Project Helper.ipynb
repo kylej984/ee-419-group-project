{
 "cells": [
  {
   "cell_type": "markdown",
   "id": "cb6a7f40",
   "metadata": {},
   "source": [
    "# EE-419 Final Project Helper\n",
    "## Vaibhav Singh"
   ]
  },
  {
   "cell_type": "markdown",
   "id": "427a3997",
   "metadata": {},
   "source": [
    "# Classes in Python"
   ]
  },
  {
   "cell_type": "code",
   "execution_count": 1,
   "id": "d5ed52d0",
   "metadata": {},
   "outputs": [],
   "source": [
    "# Example class\n",
    "class rectangle:\n",
    "    # Constructor function\n",
    "    def __init__(self, l, b):\n",
    "        self.length = l\n",
    "        self.breadth = b\n",
    "        \n",
    "    def area(self):\n",
    "        return (self.length * self.breadth)\n",
    "    \n",
    "    def area_print(self):\n",
    "        print (self.length * self.breadth)"
   ]
  },
  {
   "cell_type": "code",
   "execution_count": 48,
   "id": "276a4899",
   "metadata": {},
   "outputs": [],
   "source": [
    "# Making an object of class rectangle\n",
    "test_rectangle = rectangle(4, 2)\n",
    "# print(test_rectangle.length)\n",
    "# print(test_rectangle.breadth)\n",
    "print(test_rectangle.area())\n",
    "# print(rectangle.area(test_rectangle) # another way to make the same function call"
   ]
  },
  {
   "cell_type": "markdown",
   "id": "2cd5b683",
   "metadata": {},
   "source": [
    "# Sockets Recap"
   ]
  },
  {
   "cell_type": "markdown",
   "id": "960ebd1e",
   "metadata": {},
   "source": [
    "https://docs.python.org/3/library/socket.html"
   ]
  },
  {
   "cell_type": "code",
   "execution_count": 35,
   "id": "26127753",
   "metadata": {},
   "outputs": [],
   "source": [
    "from socket import *\n",
    "# You may also use \"import socket\", but everytime you make a function call, it requires a longer syntax\n",
    "\n",
    "my_socket = socket(AF_INET, SOCK_STREAM) # Socket of type IPv4 & TCP\n",
    "# my_socket = socket.socket(socket.AF_INET, socket.SOCK_STREAM) # if you import the module in the latter way\n",
    "\n",
    "# Bind socket to an address\n",
    "IP = \"127.0.0.1\" # Loopback IP in this example\n",
    "port = 50001\n",
    "addr = (IP, port) # Tuple of IP and port number\n",
    "my_socket.bind(addr) # Bind an identifier tuple to a socket\n",
    "\n",
    "# Put a TCP socket on listening mode\n",
    "num_connections = 10\n",
    "my_socket.listen(num_connections) # num_connections specifies the number of unaccepted \n",
    "# connections that the system will allow before refusing new connections"
   ]
  },
  {
   "cell_type": "code",
   "execution_count": 36,
   "id": "3d28c8ed",
   "metadata": {},
   "outputs": [
    {
     "name": "stdout",
     "output_type": "stream",
     "text": [
      "Vaibhavs-MacBook-Air-2021.local\n"
     ]
    }
   ],
   "source": [
    "# Find IP address of local machine\n",
    "hostname = gethostname() # Returns hostname of computer running Python script\n",
    "print(hostname)\n",
    "# One more step to get the IP address"
   ]
  },
  {
   "cell_type": "markdown",
   "id": "43a0e852",
   "metadata": {},
   "source": [
    "# Threading"
   ]
  },
  {
   "cell_type": "markdown",
   "id": "66abed87",
   "metadata": {},
   "source": [
    "https://docs.python.org/3/library/threading.html"
   ]
  },
  {
   "cell_type": "code",
   "execution_count": 44,
   "id": "f5e4cc2c",
   "metadata": {},
   "outputs": [],
   "source": [
    "from threading import *\n",
    "\n",
    "# To run a sub-process for a function called \"my_func\" the following syntax is used\n",
    "# my_func_thread = Thread(target = my_func, args = ()) # arguments are passed in separately\n",
    "# my_func_thread.start() # Start a subprocess for the function\n",
    "\n",
    "# Example\n",
    "example_thread = Thread(target = test_rectangle.area_print, args = ())\n",
    "example_thread.start()"
   ]
  },
  {
   "cell_type": "markdown",
   "id": "9890a34a",
   "metadata": {},
   "source": [
    "# Encoding & decoding"
   ]
  },
  {
   "cell_type": "code",
   "execution_count": 43,
   "id": "20e92644",
   "metadata": {},
   "outputs": [
    {
     "name": "stdout",
     "output_type": "stream",
     "text": [
      "a = Test string ✌🏻\n",
      "a encoded =  b'Test string \\xe2\\x9c\\x8c\\xf0\\x9f\\x8f\\xbb'\n",
      "a decoded =  Test string ✌🏻\n"
     ]
    }
   ],
   "source": [
    "a = \"Test string ✌🏻\"\n",
    "print(\"a = \" + a)\n",
    "a = a.encode() # encodes by default to UTF-8 ✌\n",
    "print(\"a encoded = \", a)\n",
    "a = a.decode()\n",
    "print(\"a decoded = \", a)\n",
    "\n",
    "# Why is it necessary to encode and decode in socket programming?\n",
    "\n",
    "# a = a.encode('ASCII') # This will throw an error for the emoji because\n",
    "# ASCII encoding only has 256 possible characters - emojis were invented decades later"
   ]
  },
  {
   "cell_type": "code",
   "execution_count": null,
   "id": "86151f15",
   "metadata": {},
   "outputs": [],
   "source": []
  }
 ],
 "metadata": {
  "kernelspec": {
   "display_name": "Python 3 (ipykernel)",
   "language": "python",
   "name": "python3"
  },
  "language_info": {
   "codemirror_mode": {
    "name": "ipython",
    "version": 3
   },
   "file_extension": ".py",
   "mimetype": "text/x-python",
   "name": "python",
   "nbconvert_exporter": "python",
   "pygments_lexer": "ipython3",
   "version": "3.9.12"
  }
 },
 "nbformat": 4,
 "nbformat_minor": 5
}
